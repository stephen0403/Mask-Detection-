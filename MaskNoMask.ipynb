##Project_is_now_mainly_for_learning_purposes

import numpy as np
import matplotlib.pyplot as plt
import os
import cv2

DATADIR = "/Users/stephenim/MaskImages"
CATEGORIES = ["with_mask", "without_mask"]

##PATH
for category in CATEGORIES: 
    path = os.path.join(DATADIR, category) # path to mask or no mask dir 
    for img in os.listdir(path):
        img_array = cv2.imread(os.path.join(path,img), cv2.IMREAD_GRAYSCALE) # remove colour (not necessary for differentiating mask to no mask)
        plt.imshow(img_array, cmap="gray")
        plt.show()
        break
    break

training_data = []


##TRAINING_DATA 

def create_training_data():
    for category in CATEGORIES: 
        path = os.path.join(DATADIR, category) # path to mask or no mask dir 
        class_num = CATEGORIES.index(category)
        for img in os.listdir(path):
            try:
                img_array = cv2.imread(os.path.join(path,img), cv2.IMREAD_GRAYSCALE) # remove colour (not necessary for differentiating mask to no mask
                new_array = cv2.resize(img_array, (IMG_SIZE, IMG_SIZE))
                training_data.append([new_array, class_num])
            except Exception as e:
                pass
create_training_data()
    
for features, label in training_data:
    X.append(features)
    y.append(label)
    
X = np.array(X).reshape(-1, IMG_SIZE, IMG_SIZE, 1) #1 at the end because GRAYSCALE

import pickle 

pickle_out = open("X.pickle", "wb")
pickle.dump(X, pickle_out)
pickle_out.close()

pickle_out = open("y.pickle", "wb")
pickle.dump(y, pickle_out)
pickle_out.close()


import tensorflow as tf
from tensorflow.keras.models import Sequential 
from tensorflow.keras.layers import Dense, Dropout, Activation, Flatten, Conv2D, MaxPooling2D
import pickle

X = pickle.load(open("X.pickle", "rb"))
y = pickle.load(open("y.pickle", "rb"))
y = np.array(y)

X = X/255.0

model = Sequential()
model.add(   Conv2D(64, (3,3), input_shape = X.shape[1:])   )
model.add(Activation("relu"))
model.add(MaxPooling2D(pool_size=(2,2)))

model.add(Conv2D(64, (3,3)))
model.add(Activation("relu"))
model.add(MaxPooling2D(pool_size=(2,2)))

model.add(Flatten())
model.add(Dense(64))

model.add(Dense(1))
model.add(Activation('sigmoid'))

model.compile(loss="binary_crossentropy",
             optimizer="adam",
             metrics=['accuracy'])

model.fit(X, y, batch_size=32, epochs=5, validation_split=0.1)
